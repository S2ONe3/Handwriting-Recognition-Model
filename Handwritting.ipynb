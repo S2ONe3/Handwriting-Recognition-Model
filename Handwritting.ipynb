{
  "cells": [
    {
      "cell_type": "markdown",
      "metadata": {
        "id": "view-in-github",
        "colab_type": "text"
      },
      "source": [
        "<a href=\"https://colab.research.google.com/github/S2ONe3/Handwriting-Recognition-Model/blob/main/Handwritting.ipynb\" target=\"_parent\"><img src=\"https://colab.research.google.com/assets/colab-badge.svg\" alt=\"Open In Colab\"/></a>"
      ]
    },
    {
      "cell_type": "markdown",
      "metadata": {
        "id": "IDlMd8NkXbkC"
      },
      "source": [
        " **mount google drive to colab**"
      ]
    },
    {
      "cell_type": "code",
      "execution_count": null,
      "metadata": {
        "colab": {
          "base_uri": "https://localhost:8080/"
        },
        "id": "WXh20bUyZXO9",
        "outputId": "8d2abaae-0348-4e5a-f466-63547ffa603e"
      },
      "outputs": [
        {
          "output_type": "stream",
          "name": "stdout",
          "text": [
            "Mounted at /content/gdrive\n"
          ]
        }
      ],
      "source": [
        "from google.colab import drive\n",
        "drive.mount('/content/gdrive')\n"
      ]
    },
    {
      "cell_type": "code",
      "execution_count": null,
      "metadata": {
        "id": "x2J-9sQlvW_F"
      },
      "outputs": [],
      "source": [
        "#  unzip data folder for admin \n",
        "!unzip gdrive/My\\ Drive/Colab\\ Notebooks/archive.zip > /dev/null\n",
        "\n",
        "#unzip data folder for other team_mates\n",
        "# !unzip gdrive/My\\ Drive/archive.zip > /dev/null\n"
      ]
    },
    {
      "cell_type": "markdown",
      "metadata": {
        "id": "rHiZoMTIYSpu"
      },
      "source": [
        "**importing modules** "
      ]
    },
    {
      "cell_type": "code",
      "execution_count": null,
      "metadata": {
        "id": "zTga9YFP2zXy"
      },
      "outputs": [],
      "source": [
        "import os\n",
        "import cv2\n",
        "import numpy as np\n",
        "import pandas as pd\n",
        "import matplotlib.pyplot as plt\n",
        "\n",
        "import tensorflow as tf\n",
        "from keras import backend as K\n",
        "from keras.models import Model\n",
        "from keras.layers import Input, Conv2D, MaxPooling2D, Reshape, Bidirectional, LSTM, Dense, Lambda, Activation, BatchNormalization, Dropout\n",
        "from tensorflow.keras.optimizers import Adam\n",
        "\n",
        "from sklearn.model_selection import train_test_split"
      ]
    },
    {
      "cell_type": "code",
      "execution_count": null,
      "metadata": {
        "id": "SZMgasoe51iO"
      },
      "outputs": [],
      "source": [
        "train = pd.read_csv('/content/written_name_train_v2.csv')\n",
        "valid = pd.read_csv('/content/written_name_validation_v2.csv')"
      ]
    },
    {
      "cell_type": "markdown",
      "metadata": {
        "id": "uPvr9nNWY0Js"
      },
      "source": [
        "**Print number of NaN datas**\n"
      ]
    },
    {
      "cell_type": "code",
      "execution_count": null,
      "metadata": {
        "colab": {
          "base_uri": "https://localhost:8080/"
        },
        "id": "hasYzOoq6GGd",
        "outputId": "e76b9581-845c-4940-8ed4-a5d3d3ef8654"
      },
      "outputs": [
        {
          "output_type": "stream",
          "name": "stdout",
          "text": [
            "Number of NaNs in train set      :  565\n",
            "Number of NaNs in validation set :  78\n"
          ]
        }
      ],
      "source": [
        "print(\"Number of NaNs in train set      : \", train['IDENTITY'].isnull().sum())\n",
        "print(\"Number of NaNs in validation set : \", valid['IDENTITY'].isnull().sum())"
      ]
    },
    {
      "cell_type": "markdown",
      "metadata": {
        "id": "GhQRnctTY7b6"
      },
      "source": [
        "**drop all NaN datas**\n"
      ]
    },
    {
      "cell_type": "code",
      "execution_count": null,
      "metadata": {
        "id": "XNMlg1Ku6L59"
      },
      "outputs": [],
      "source": [
        "train.dropna(axis=0, inplace=True)\n",
        "valid.dropna(axis=0, inplace=True)"
      ]
    },
    {
      "cell_type": "markdown",
      "metadata": {
        "id": "3UYWSFP0Y_Pa"
      },
      "source": [
        "**trim both dataset 'train' and 'valid' excluding the images which are unreadable**"
      ]
    },
    {
      "cell_type": "code",
      "execution_count": null,
      "metadata": {
        "id": "0o9wRBGu6UeG"
      },
      "outputs": [],
      "source": [
        "train = train[train['IDENTITY'] != 'UNREADABLE']\n",
        "valid = valid[valid['IDENTITY'] != 'UNREADABLE']"
      ]
    },
    {
      "cell_type": "markdown",
      "metadata": {
        "id": "rDJpuEqLZIai"
      },
      "source": [
        "**Print number of READABLE datas in both data_set**"
      ]
    },
    {
      "cell_type": "code",
      "execution_count": null,
      "metadata": {
        "colab": {
          "base_uri": "https://localhost:8080/"
        },
        "id": "T26oPAmt6YXl",
        "outputId": "11318ab6-3f01-483c-de25-cc129b23ecc0"
      },
      "outputs": [
        {
          "output_type": "stream",
          "name": "stdout",
          "text": [
            "Number of READABLE in train set      :  330294\n",
            "Number of READABLE in validation set :  41280\n"
          ]
        }
      ],
      "source": [
        "print(\"Number of READABLE in train set      : \", len(train))\n",
        "print(\"Number of READABLE in validation set : \", len(valid))"
      ]
    },
    {
      "cell_type": "markdown",
      "metadata": {
        "id": "YVt3fxeJZRmq"
      },
      "source": [
        "**bring all text datas in one format**"
      ]
    },
    {
      "cell_type": "code",
      "execution_count": null,
      "metadata": {
        "id": "MOc7mesa6cQ1"
      },
      "outputs": [],
      "source": [
        "train['IDENTITY'] = train['IDENTITY'].str.upper()\n",
        "valid['IDENTITY'] = valid['IDENTITY'].str.upper()"
      ]
    },
    {
      "cell_type": "code",
      "execution_count": null,
      "metadata": {
        "id": "0oI0Fuap6fVd"
      },
      "outputs": [],
      "source": [
        "train.reset_index(inplace = True, drop=True) \n",
        "valid.reset_index(inplace = True, drop=True)"
      ]
    },
    {
      "cell_type": "markdown",
      "metadata": {
        "id": "153jPtzgZezE"
      },
      "source": [
        "**preprocess function do crop or padding using white pixels on any data_image**\n"
      ]
    },
    {
      "cell_type": "code",
      "execution_count": null,
      "metadata": {
        "id": "ZYQwHp0d6iiW"
      },
      "outputs": [],
      "source": [
        "def preprocess(img):\n",
        "    (h, w) = img.shape\n",
        "    \n",
        "    final_img = np.ones([64, 256])*255 # blank white image\n",
        "    \n",
        "    # crop\n",
        "    if w > 256:\n",
        "        img = img[:, :256]\n",
        "        \n",
        "    if h > 64:\n",
        "        img = img[:64, :]\n",
        "    \n",
        "    \n",
        "    final_img[:h, :w] = img\n",
        "    return cv2.rotate(final_img, cv2.ROTATE_90_CLOCKWISE)"
      ]
    },
    {
      "cell_type": "code",
      "execution_count": null,
      "metadata": {
        "id": "qE4clCbU6j69"
      },
      "outputs": [],
      "source": [
        "train_size_short = 330294\n",
        "train_size = 15000\n",
        "valid_size = 15000\n",
        "# train_size = 1000\n",
        "# valid_size = 300"
      ]
    },
    {
      "cell_type": "code",
      "execution_count": null,
      "metadata": {
        "colab": {
          "base_uri": "https://localhost:8080/",
          "height": 109
        },
        "id": "mbV7X06ULCM9",
        "outputId": "050c7085-ab96-4aa6-9146-efab0fe1e8c6"
      },
      "outputs": [
        {
          "output_type": "execute_result",
          "data": {
            "text/plain": [
              "(-0.5, 323.5, 43.5, -0.5)"
            ]
          },
          "metadata": {},
          "execution_count": 13
        },
        {
          "output_type": "display_data",
          "data": {
            "text/plain": [
              "<Figure size 432x288 with 1 Axes>"
            ],
            "image/png": "[encoded data removed]"
          },
          "metadata": {
            "needs_background": "light"
          }
        }
      ],
      "source": [
        "img_dir = '/content/train_v2/train/TRAIN_00003.jpg'\n",
        "image = cv2.imread(img_dir, cv2.IMREAD_GRAYSCALE)\n",
        "plt.imshow(image, cmap = 'gray') # colormap instance or registered colormap name\n",
        "plt.title('Original', fontsize=12)\n",
        "plt.axis('off')\n"
      ]
    },
    {
      "cell_type": "markdown",
      "metadata": {
        "id": "jIx8SOwDhP4H"
      },
      "source": [
        "**Preprocess all Train Data Images**\n",
        "\n"
      ]
    },
    {
      "cell_type": "code",
      "execution_count": null,
      "metadata": {
        "id": "pAoVYO3A35bl"
      },
      "outputs": [],
      "source": [
        "# def loop(batch_i= 1,batch_f=1000):\n",
        "def loop(batch_i,batch_f):\n",
        "  train_edited_local = []\n",
        "  for i in range(batch_i,batch_f):\n",
        "      img_dir = '/content/train_v2/train/' + train.loc[i, 'FILENAME']\n",
        "      image = cv2.imread(img_dir, cv2.IMREAD_GRAYSCALE)\n",
        "      image = preprocess(image)\n",
        "      image = image/255.\n",
        "      train_edited_local.append(image)\n",
        "  # print(train_edited_local)\n",
        "  return train_edited_local\n",
        "\n",
        "# print(loop(batch_i= 1,batch_f=1000))"
      ]
    },
    {
      "cell_type": "code",
      "execution_count": null,
      "metadata": {
        "id": "0hbzGDtEP1a_"
      },
      "outputs": [],
      "source": [
        "train_edited = []\n",
        "\n",
        "#Creating Batch for Better Utilization of Ram\n",
        "batch_i=0 \n",
        "batch_f=1000\n",
        "stop=True\n",
        "\n",
        "while(stop):\n",
        "  train_edited.extend(loop(batch_i,batch_f))\n",
        "  if(stop):\n",
        "      batch_i = batch_f\n",
        "      batch_f += 1000\n",
        "      if(train_size < batch_f):\n",
        "        batch_f = train_size\n",
        "        stop = False"
      ]
    },
    {
      "cell_type": "markdown",
      "metadata": {
        "id": "AJa4lkHPhXS_"
      },
      "source": [
        "**Preprocess all Valid Data Images**"
      ]
    },
    {
      "cell_type": "code",
      "execution_count": null,
      "metadata": {
        "id": "3CqK5tWrcDWX"
      },
      "outputs": [],
      "source": [
        "valid_edited = []\n",
        "\n",
        "# #Creating Batch for Better Utilization of Ram\n",
        "# batch_i=0 \n",
        "# batch_f=1000\n",
        "# stop=True\n",
        "\n",
        "for i in range(0,valid_size):\n",
        "    img_dir = '/content/validation_v2/validation/' + valid.loc[i, 'FILENAME']\n",
        "    image = cv2.imread(img_dir, cv2.IMREAD_GRAYSCALE)\n",
        "    image = preprocess(image)\n",
        "    image = image/255.\n",
        "    valid_edited.append(image)\n",
        "    # if(stop):\n",
        "    #   batch_i = batch_f\n",
        "    #   batch_f *= 2\n",
        "    #   if(valid_size < batch_f):\n",
        "    #     batch_f = valid_size\n",
        "    #     stop = False"
      ]
    },
    {
      "cell_type": "code",
      "execution_count": null,
      "metadata": {
        "colab": {
          "base_uri": "https://localhost:8080/",
          "height": 281
        },
        "id": "iDgsjI6VT6tT",
        "outputId": "6a9f94ba-ef67-4830-d124-272fdd18e6ea"
      },
      "outputs": [
        {
          "output_type": "execute_result",
          "data": {
            "text/plain": [
              "(-0.5, 63.5, 255.5, -0.5)"
            ]
          },
          "metadata": {},
          "execution_count": 17
        },
        {
          "output_type": "display_data",
          "data": {
            "text/plain": [
              "<Figure size 432x288 with 1 Axes>"
            ],
            "image/png": "[encoded data removed]"
          },
          "metadata": {
            "needs_background": "light"
          }
        }
      ],
      "source": [
        "image = preprocess(image)\n",
        "image = image/255\n",
        "plt.imshow(train_edited[0], cmap = 'gray') # colormap instance or registered colormap name\n",
        "plt.title('Edited', fontsize=12)\n",
        "plt.axis('off')"
      ]
    },
    {
      "cell_type": "markdown",
      "metadata": {
        "id": "cs-rkdNJhkDX"
      },
      "source": [
        "**Reshaping all Preprocessed Data Images**"
      ]
    },
    {
      "cell_type": "code",
      "execution_count": null,
      "metadata": {
        "id": "pNPpTnELddgf"
      },
      "outputs": [],
      "source": [
        "train_edited = np.array(train_edited).reshape(-1, 256, 64, 1)\n",
        "valid_edited = np.array(valid_edited).reshape(-1, 256, 64, 1)"
      ]
    },
    {
      "cell_type": "markdown",
      "metadata": {
        "id": "J4CRBaHOZuo7"
      },
      "source": [
        "**Calculating CTC loss**"
      ]
    },
    {
      "cell_type": "code",
      "execution_count": null,
      "metadata": {
        "id": "YNcfRbBbXCKV"
      },
      "outputs": [],
      "source": [
        "alphabets = u\"ABCDEFGHIJKLMNOPQRSTUVWXYZ-' \"\n",
        "max_str_len = 34 # max length of input labels\n",
        "num_of_characters = len(alphabets) + 1 # +1 for ctc pseudo blank\n",
        "num_of_timestamps = 64 # max length of predicted labels\n",
        "\n",
        "\n",
        "def label_to_num(label):\n",
        "    label_num = []\n",
        "    for ch in label:\n",
        "        label_num.append(alphabets.find(ch))\n",
        "        \n",
        "    return np.array(label_num)\n",
        "\n",
        "def num_to_label(num):\n",
        "    label_string = \"\"\n",
        "    for ch in num:\n",
        "        if ch == -1:  # CTC Blank\n",
        "            break\n",
        "        else:\n",
        "            label_string += alphabets[ch]\n",
        "    return label_string"
      ]
    },
    {
      "cell_type": "markdown",
      "metadata": {
        "id": "lzvjzHJAivbd"
      },
      "source": [
        "**Printing A Sample Case**"
      ]
    },
    {
      "cell_type": "code",
      "execution_count": null,
      "metadata": {
        "colab": {
          "base_uri": "https://localhost:8080/"
        },
        "id": "OitJnPujZ6Ds",
        "outputId": "583d42e5-83ac-44e2-efbc-ce648ee59de6"
      },
      "outputs": [
        {
          "output_type": "stream",
          "name": "stdout",
          "text": [
            "JOKERK \t [ 9 14 10  4 17 10]\n",
            "\n",
            "[ 9 14 10  4 17 10] \t JOKERK\n"
          ]
        }
      ],
      "source": [
        "name = 'JOKERK'\n",
        "num = label_to_num(name)\n",
        "print(name, '\\t',num)\n",
        "print()\n",
        "print(num, '\\t', num_to_label(num))"
      ]
    },
    {
      "cell_type": "markdown",
      "metadata": {
        "id": "LRT8-b1EAk95"
      },
      "source": [
        "**CTC LOSS LABELS**"
      ]
    },
    {
      "cell_type": "code",
      "execution_count": null,
      "metadata": {
        "id": "NOFTG_NJ-jQy"
      },
      "outputs": [],
      "source": [
        "train_y = np.ones([train_size, max_str_len]) * -1\n",
        "train_label_len = np.zeros([train_size, 1])\n",
        "train_input_len = np.ones([train_size, 1]) * (num_of_timestamps-2)\n",
        "train_output = np.zeros([train_size])\n",
        "\n",
        "for i in range(train_size):\n",
        "    train_label_len[i] = len(train.loc[i, 'IDENTITY'])\n",
        "    train_y[i, 0:len(train.loc[i, 'IDENTITY'])]= label_to_num(train.loc[i, 'IDENTITY'])    "
      ]
    },
    {
      "cell_type": "code",
      "execution_count": null,
      "metadata": {
        "id": "saHZfk-fADKA"
      },
      "outputs": [],
      "source": [
        "valid_y = np.ones([valid_size, max_str_len]) * -1\n",
        "valid_label_len = np.zeros([valid_size, 1])\n",
        "valid_input_len = np.ones([valid_size, 1]) * (num_of_timestamps-2)\n",
        "valid_output = np.zeros([valid_size])\n",
        "\n",
        "for i in range(valid_size):\n",
        "    valid_label_len[i] = len(valid.loc[i, 'IDENTITY'])\n",
        "    valid_y[i, 0:len(valid.loc[i, 'IDENTITY'])]= label_to_num(valid.loc[i, 'IDENTITY'])  "
      ]
    },
    {
      "cell_type": "code",
      "execution_count": null,
      "metadata": {
        "colab": {
          "base_uri": "https://localhost:8080/"
        },
        "id": "iLYkX6fFAHvW",
        "outputId": "40ac4de5-701f-422e-8de2-60529b46359c"
      },
      "outputs": [
        {
          "output_type": "stream",
          "name": "stdout",
          "text": [
            "True label :  NOUR \n",
            "train_y :  [13. 14. 20. 17. -1. -1. -1. -1. -1. -1. -1. -1. -1. -1. -1. -1. -1. -1.\n",
            " -1. -1. -1. -1. -1. -1. -1. -1. -1. -1. -1. -1. -1. -1. -1. -1.] \n",
            "train_label_len :  [4.] \n",
            "train_input_len :  [62.]\n"
          ]
        }
      ],
      "source": [
        "print('True label : ',train.loc[100, 'IDENTITY'] , '\\ntrain_y : ',train_y[100],'\\ntrain_label_len : ',train_label_len[100], \n",
        "      '\\ntrain_input_len : ', train_input_len[100])"
      ]
    },
    {
      "cell_type": "markdown",
      "metadata": {
        "id": "k0vhpzjaFgG2"
      },
      "source": [
        "**The CNN Model**"
      ]
    },
    {
      "cell_type": "code",
      "execution_count": null,
      "metadata": {
        "colab": {
          "base_uri": "https://localhost:8080/"
        },
        "id": "wHQrjZTpawdz",
        "outputId": "ef03ca8f-57ed-4f84-dd42-692036cbbb8b"
      },
      "outputs": [
        {
          "output_type": "stream",
          "name": "stdout",
          "text": [
            "KerasTensor(type_spec=TensorSpec(shape=(None, 256, 64, 1), dtype=tf.float32, name='input'), name='input', description=\"created by layer 'input'\")\n"
          ]
        }
      ],
      "source": [
        "#  use for testing purpose\n",
        "input_data = Input(shape=(256, 64, 1), name='input')\n",
        "print(input_data)"
      ]
    },
    {
      "cell_type": "code",
      "execution_count": null,
      "metadata": {
        "id": "lomatU-7FecC",
        "colab": {
          "base_uri": "https://localhost:8080/"
        },
        "outputId": "fc761ce8-38fe-4bbe-bbf6-fc7d4fb3d03a"
      },
      "outputs": [
        {
          "output_type": "stream",
          "name": "stdout",
          "text": [
            "Model: \"model\"\n",
            "_________________________________________________________________\n",
            " Layer (type)                Output Shape              Param #   \n",
            "=================================================================\n",
            " input (InputLayer)          [(None, 256, 64, 1)]      0         \n",
            "                                                                 \n",
            " conv1 (Conv2D)              (None, 256, 64, 32)       320       \n",
            "                                                                 \n",
            " batch_normalization (BatchN  (None, 256, 64, 32)      128       \n",
            " ormalization)                                                   \n",
            "                                                                 \n",
            " activation (Activation)     (None, 256, 64, 32)       0         \n",
            "                                                                 \n",
            " max1 (MaxPooling2D)         (None, 128, 32, 32)       0         \n",
            "                                                                 \n",
            " conv2 (Conv2D)              (None, 128, 32, 64)       18496     \n",
            "                                                                 \n",
            " batch_normalization_1 (Batc  (None, 128, 32, 64)      256       \n",
            " hNormalization)                                                 \n",
            "                                                                 \n",
            " activation_1 (Activation)   (None, 128, 32, 64)       0         \n",
            "                                                                 \n",
            " max2 (MaxPooling2D)         (None, 64, 16, 64)        0         \n",
            "                                                                 \n",
            " dropout (Dropout)           (None, 64, 16, 64)        0         \n",
            "                                                                 \n",
            " conv3 (Conv2D)              (None, 64, 16, 128)       73856     \n",
            "                                                                 \n",
            " batch_normalization_2 (Batc  (None, 64, 16, 128)      512       \n",
            " hNormalization)                                                 \n",
            "                                                                 \n",
            " activation_2 (Activation)   (None, 64, 16, 128)       0         \n",
            "                                                                 \n",
            " max3 (MaxPooling2D)         (None, 64, 8, 128)        0         \n",
            "                                                                 \n",
            " dropout_1 (Dropout)         (None, 64, 8, 128)        0         \n",
            "                                                                 \n",
            " reshape (Reshape)           (None, 64, 1024)          0         \n",
            "                                                                 \n",
            " dense1 (Dense)              (None, 64, 64)            65600     \n",
            "                                                                 \n",
            " lstm1 (Bidirectional)       (None, 64, 512)           657408    \n",
            "                                                                 \n",
            " lstm2 (Bidirectional)       (None, 64, 512)           1574912   \n",
            "                                                                 \n",
            " dense2 (Dense)              (None, 64, 30)            15390     \n",
            "                                                                 \n",
            " softmax (Activation)        (None, 64, 30)            0         \n",
            "                                                                 \n",
            "=================================================================\n",
            "Total params: 2,406,878\n",
            "Trainable params: 2,406,430\n",
            "Non-trainable params: 448\n",
            "_________________________________________________________________\n"
          ]
        }
      ],
      "source": [
        "input_data = Input(shape=(256, 64, 1), name='input')\n",
        "\n",
        "inner = Conv2D(32, (3, 3), padding='same', name='conv1', kernel_initializer='he_normal')(input_data)  \n",
        "inner = BatchNormalization()(inner)\n",
        "inner = Activation('relu')(inner)\n",
        "inner = MaxPooling2D(pool_size=(2, 2), name='max1')(inner)\n",
        "\n",
        "inner = Conv2D(64, (3, 3), padding='same', name='conv2', kernel_initializer='he_normal')(inner)\n",
        "inner = BatchNormalization()(inner)\n",
        "inner = Activation('relu')(inner)\n",
        "inner = MaxPooling2D(pool_size=(2, 2), name='max2')(inner)\n",
        "inner = Dropout(0.3)(inner)\n",
        "\n",
        "inner = Conv2D(128, (3, 3), padding='same', name='conv3', kernel_initializer='he_normal')(inner)\n",
        "inner = BatchNormalization()(inner)\n",
        "inner = Activation('relu')(inner)\n",
        "inner = MaxPooling2D(pool_size=(1, 2), name='max3')(inner)\n",
        "inner = Dropout(0.3)(inner)\n",
        "\n",
        "# CNN to RNN\n",
        "inner = Reshape(target_shape=((64, 1024)), name='reshape')(inner)\n",
        "inner = Dense(64, activation='relu', kernel_initializer='he_normal', name='dense1')(inner)\n",
        "\n",
        "## RNN\n",
        "inner = Bidirectional(LSTM(256, return_sequences=True), name = 'lstm1')(inner)\n",
        "inner = Bidirectional(LSTM(256, return_sequences=True), name = 'lstm2')(inner)\n",
        "\n",
        "## OUTPUT\n",
        "inner = Dense(num_of_characters, kernel_initializer='he_normal',name='dense2')(inner)\n",
        "y_pred = Activation('softmax', name='softmax')(inner)\n",
        "\n",
        "model = Model(inputs=input_data, outputs=y_pred)\n",
        "model.summary()"
      ]
    },
    {
      "cell_type": "code",
      "execution_count": null,
      "metadata": {
        "id": "E99ZvMAAqI_o"
      },
      "outputs": [],
      "source": [
        "# the ctc loss function\n",
        "def ctc_lambda_func(args):\n",
        "    y_pred, labels, input_length, label_length = args\n",
        "    # the 2 is critical here since the first couple outputs of the RNN\n",
        "    # tend to be garbage\n",
        "    y_pred = y_pred[:, 2:, :]\n",
        "    return K.ctc_batch_cost(labels, y_pred, input_length, label_length)"
      ]
    },
    {
      "cell_type": "code",
      "execution_count": null,
      "metadata": {
        "id": "SRwIIv1VqNHl"
      },
      "outputs": [],
      "source": [
        "labels = Input(name='gtruth_labels', shape=[max_str_len], dtype='float32')\n",
        "input_length = Input(name='input_length', shape=[1], dtype='int64')\n",
        "label_length = Input(name='label_length', shape=[1], dtype='int64')\n",
        "\n",
        "ctc_loss = Lambda(ctc_lambda_func, output_shape=(1,), name='ctc')([y_pred, labels, input_length, label_length])\n",
        "model_final = Model(inputs=[input_data, labels, input_length, label_length], outputs=ctc_loss)"
      ]
    },
    {
      "cell_type": "code",
      "execution_count": null,
      "metadata": {
        "colab": {
          "base_uri": "https://localhost:8080/"
        },
        "id": "-K-kUVjLiYnn",
        "outputId": "558ae23f-a495-4c21-f6be-167d69cb771b"
      },
      "outputs": [
        {
          "output_type": "stream",
          "name": "stdout",
          "text": [
            "15000\n"
          ]
        }
      ],
      "source": [
        "# print(train_edited)\n",
        "print(len(train_edited))\n",
        "del train\n",
        "del valid"
      ]
    },
    {
      "cell_type": "code",
      "source": [
        "import gc \n",
        "gc.collect()"
      ],
      "metadata": {
        "colab": {
          "base_uri": "https://localhost:8080/"
        },
        "id": "yWA-LYC7HYSr",
        "outputId": "17aa53c7-0e57-4301-e035-c857f858d504"
      },
      "execution_count": null,
      "outputs": [
        {
          "output_type": "execute_result",
          "data": {
            "text/plain": [
              "20091"
            ]
          },
          "metadata": {},
          "execution_count": 29
        }
      ]
    },
    {
      "cell_type": "code",
      "execution_count": null,
      "metadata": {
        "colab": {
          "base_uri": "https://localhost:8080/"
        },
        "id": "I6ca8IxQwMVA",
        "outputId": "78a1aebc-535f-4994-eb81-ec2911ecc362"
      },
      "outputs": [
        {
          "output_type": "stream",
          "name": "stderr",
          "text": [
            "/usr/local/lib/python3.7/dist-packages/keras/optimizer_v2/adam.py:105: UserWarning: The `lr` argument is deprecated, use `learning_rate` instead.\n",
            "  super(Adam, self).__init__(name, **kwargs)\n"
          ]
        },
        {
          "output_type": "stream",
          "name": "stdout",
          "text": [
            "Epoch 1/60\n",
            "118/118 [==============================] - 56s 316ms/step - loss: 29.4591 - val_loss: 25.2579\n",
            "Epoch 2/60\n",
            "118/118 [==============================] - 33s 281ms/step - loss: 20.4772 - val_loss: 20.7483\n",
            "Epoch 3/60\n",
            "118/118 [==============================] - 34s 290ms/step - loss: 20.2105 - val_loss: 20.3287\n",
            "Epoch 4/60\n",
            "118/118 [==============================] - 33s 283ms/step - loss: 20.0514 - val_loss: 20.1783\n",
            "Epoch 5/60\n",
            "118/118 [==============================] - 33s 283ms/step - loss: 19.8797 - val_loss: 20.0040\n",
            "Epoch 6/60\n",
            "118/118 [==============================] - 33s 282ms/step - loss: 19.6761 - val_loss: 19.6534\n",
            "Epoch 7/60\n",
            "118/118 [==============================] - 33s 280ms/step - loss: 19.3446 - val_loss: 19.3153\n",
            "Epoch 8/60\n",
            "118/118 [==============================] - 35s 300ms/step - loss: 18.8494 - val_loss: 19.0975\n",
            "Epoch 9/60\n",
            "118/118 [==============================] - 33s 280ms/step - loss: 18.2629 - val_loss: 18.6819\n",
            "Epoch 10/60\n",
            "118/118 [==============================] - 33s 281ms/step - loss: 17.5622 - val_loss: 17.8124\n",
            "Epoch 11/60\n",
            "118/118 [==============================] - 33s 284ms/step - loss: 16.7561 - val_loss: 17.7204\n",
            "Epoch 12/60\n",
            "118/118 [==============================] - 33s 282ms/step - loss: 15.6685 - val_loss: 16.8106\n",
            "Epoch 13/60\n",
            "118/118 [==============================] - 34s 289ms/step - loss: 14.5571 - val_loss: 15.4143\n",
            "Epoch 14/60\n",
            "118/118 [==============================] - 33s 282ms/step - loss: 13.3917 - val_loss: 13.4842\n",
            "Epoch 15/60\n",
            "118/118 [==============================] - 33s 283ms/step - loss: 12.3123 - val_loss: 11.4698\n",
            "Epoch 16/60\n",
            "118/118 [==============================] - 33s 282ms/step - loss: 11.2207 - val_loss: 10.2799\n",
            "Epoch 17/60\n",
            "118/118 [==============================] - 33s 283ms/step - loss: 10.1864 - val_loss: 9.1861\n",
            "Epoch 18/60\n",
            "118/118 [==============================] - 34s 289ms/step - loss: 9.1828 - val_loss: 8.0686\n",
            "Epoch 19/60\n",
            "118/118 [==============================] - 34s 289ms/step - loss: 8.1768 - val_loss: 7.1498\n",
            "Epoch 20/60\n",
            "118/118 [==============================] - 33s 284ms/step - loss: 7.2987 - val_loss: 6.5536\n",
            "Epoch 21/60\n",
            "118/118 [==============================] - 33s 282ms/step - loss: 6.6513 - val_loss: 5.9376\n",
            "Epoch 22/60\n",
            "118/118 [==============================] - 33s 282ms/step - loss: 6.0854 - val_loss: 5.3532\n",
            "Epoch 23/60\n",
            "118/118 [==============================] - 34s 289ms/step - loss: 5.6451 - val_loss: 5.3189\n",
            "Epoch 24/60\n",
            "118/118 [==============================] - 33s 280ms/step - loss: 5.2822 - val_loss: 4.7477\n",
            "Epoch 25/60\n",
            "118/118 [==============================] - 33s 281ms/step - loss: 4.9378 - val_loss: 4.5445\n",
            "Epoch 26/60\n",
            "118/118 [==============================] - 33s 281ms/step - loss: 4.7232 - val_loss: 4.2658\n",
            "Epoch 27/60\n",
            "118/118 [==============================] - 33s 280ms/step - loss: 4.4496 - val_loss: 4.0632\n",
            "Epoch 28/60\n",
            "118/118 [==============================] - 34s 289ms/step - loss: 4.2462 - val_loss: 3.9741\n",
            "Epoch 29/60\n",
            "118/118 [==============================] - 33s 281ms/step - loss: 4.0642 - val_loss: 3.8549\n",
            "Epoch 30/60\n",
            "118/118 [==============================] - 34s 289ms/step - loss: 3.9157 - val_loss: 3.5603\n",
            "Epoch 31/60\n",
            "118/118 [==============================] - 33s 280ms/step - loss: 3.7514 - val_loss: 3.5453\n",
            "Epoch 32/60\n",
            "118/118 [==============================] - 33s 281ms/step - loss: 3.6049 - val_loss: 3.4482\n",
            "Epoch 33/60\n",
            "118/118 [==============================] - 34s 291ms/step - loss: 3.5090 - val_loss: 3.4908\n",
            "Epoch 34/60\n",
            "118/118 [==============================] - 33s 283ms/step - loss: 3.3699 - val_loss: 3.2543\n",
            "Epoch 35/60\n",
            "118/118 [==============================] - 33s 283ms/step - loss: 3.2716 - val_loss: 3.1972\n",
            "Epoch 36/60\n",
            "118/118 [==============================] - 33s 282ms/step - loss: 3.1632 - val_loss: 3.2187\n",
            "Epoch 37/60\n",
            "118/118 [==============================] - 33s 281ms/step - loss: 3.0862 - val_loss: 3.0609\n",
            "Epoch 38/60\n",
            "118/118 [==============================] - 34s 290ms/step - loss: 2.9972 - val_loss: 3.0925\n",
            "Epoch 39/60\n",
            "118/118 [==============================] - 33s 280ms/step - loss: 2.9266 - val_loss: 2.9315\n",
            "Epoch 40/60\n",
            "118/118 [==============================] - 33s 281ms/step - loss: 2.8413 - val_loss: 2.8394\n",
            "Epoch 41/60\n",
            "118/118 [==============================] - 34s 288ms/step - loss: 2.7657 - val_loss: 2.8186\n",
            "Epoch 42/60\n",
            "118/118 [==============================] - 33s 279ms/step - loss: 2.7050 - val_loss: 2.8840\n",
            "Epoch 43/60\n",
            "118/118 [==============================] - 34s 289ms/step - loss: 2.6382 - val_loss: 2.7400\n",
            "Epoch 44/60\n",
            "118/118 [==============================] - 33s 281ms/step - loss: 2.5833 - val_loss: 2.7529\n",
            "Epoch 45/60\n",
            "118/118 [==============================] - 33s 280ms/step - loss: 2.5234 - val_loss: 2.7416\n",
            "Epoch 46/60\n",
            "118/118 [==============================] - 33s 279ms/step - loss: 2.4664 - val_loss: 2.6483\n",
            "Epoch 47/60\n",
            "118/118 [==============================] - 33s 281ms/step - loss: 2.4092 - val_loss: 2.5878\n",
            "Epoch 48/60\n",
            "118/118 [==============================] - 34s 287ms/step - loss: 2.3477 - val_loss: 2.6615\n",
            "Epoch 49/60\n",
            "118/118 [==============================] - 32s 276ms/step - loss: 2.3085 - val_loss: 2.6344\n",
            "Epoch 50/60\n",
            "118/118 [==============================] - 33s 278ms/step - loss: 2.2486 - val_loss: 2.5684\n",
            "Epoch 51/60\n",
            "118/118 [==============================] - 34s 288ms/step - loss: 2.2069 - val_loss: 2.5653\n",
            "Epoch 52/60\n",
            "118/118 [==============================] - 33s 278ms/step - loss: 2.1683 - val_loss: 2.5641\n",
            "Epoch 53/60\n",
            "118/118 [==============================] - 34s 285ms/step - loss: 2.1413 - val_loss: 2.4982\n",
            "Epoch 54/60\n",
            "118/118 [==============================] - 33s 277ms/step - loss: 2.0775 - val_loss: 2.4659\n",
            "Epoch 55/60\n",
            "118/118 [==============================] - 33s 278ms/step - loss: 2.0318 - val_loss: 2.4512\n",
            "Epoch 56/60\n",
            "118/118 [==============================] - 33s 278ms/step - loss: 1.9870 - val_loss: 2.4373\n",
            "Epoch 57/60\n",
            "118/118 [==============================] - 33s 278ms/step - loss: 1.9569 - val_loss: 2.4688\n",
            "Epoch 58/60\n",
            "118/118 [==============================] - 34s 286ms/step - loss: 1.9197 - val_loss: 2.4974\n",
            "Epoch 59/60\n",
            "118/118 [==============================] - 33s 281ms/step - loss: 1.8782 - val_loss: 2.5182\n",
            "Epoch 60/60\n",
            "118/118 [==============================] - 33s 279ms/step - loss: 1.8360 - val_loss: 2.4860\n"
          ]
        },
        {
          "output_type": "execute_result",
          "data": {
            "text/plain": [
              "<keras.callbacks.History at 0x7fb8b21936d0>"
            ]
          },
          "metadata": {},
          "execution_count": 30
        }
      ],
      "source": [
        "# the loss calculation occurs elsewhere, so we use a dummy lambda function for the loss\n",
        "model_final.compile(loss={'ctc': lambda y_true, y_pred: y_pred}, optimizer=Adam(lr = 0.0001))\n",
        "\n",
        "model_final.fit(x=[train_edited, train_y, train_input_len, train_label_len], y=train_output, \n",
        "                validation_data=([valid_edited, valid_y, valid_input_len, valid_label_len], valid_output),\n",
        "                epochs=60, batch_size=128)"
      ]
    },
    {
      "cell_type": "code",
      "source": [
        "preds = model.predict(valid_edited)\n",
        "decoded = K.get_value(K.ctc_decode(preds, input_length=np.ones(preds.shape[0])*preds.shape[1], \n",
        "                                   greedy=True)[0][0])\n",
        "\n",
        "prediction = []\n",
        "for i in range(valid_size):\n",
        "    prediction.append(num_to_label(decoded[i]))"
      ],
      "metadata": {
        "id": "rYW3bJlVDfJR"
      },
      "execution_count": null,
      "outputs": []
    },
    {
      "cell_type": "code",
      "source": [
        "y_true = valid.loc[0:valid_size, 'IDENTITY']\n",
        "correct_char = 0\n",
        "total_char = 0\n",
        "correct = 0\n",
        "\n",
        "for i in range(valid_size):\n",
        "    pr = prediction[i]\n",
        "    tr = y_true[i]\n",
        "    total_char += len(tr)\n",
        "    \n",
        "    for j in range(min(len(tr), len(pr))):\n",
        "        if tr[j] == pr[j]:\n",
        "            correct_char += 1\n",
        "            \n",
        "    if pr == tr :\n",
        "        correct += 1 \n",
        "    \n",
        "print('Correct characters predicted : %.2f%%' %(correct_char*100/total_char))\n",
        "print('Correct words predicted      : %.2f%%' %(correct*100/valid_size))"
      ],
      "metadata": {
        "id": "Oe0M0BeTDrE5",
        "colab": {
          "base_uri": "https://localhost:8080/"
        },
        "outputId": "4d650808-957f-4969-9bb3-3119b10d76fc"
      },
      "execution_count": null,
      "outputs": [
        {
          "output_type": "stream",
          "name": "stdout",
          "text": [
            "Correct characters predicted : 1.89%\n",
            "Correct words predicted      : 0.00%\n"
          ]
        }
      ]
    },
    {
      "cell_type": "code",
      "source": [
        "del train_edited\n",
        "del valid_edited"
      ],
      "metadata": {
        "id": "z8i8ll36QPxX"
      },
      "execution_count": null,
      "outputs": []
    },
    {
      "cell_type": "code",
      "source": [
        "test = pd.read_csv('/content/written_name_test_v2.csv')\n",
        "\n",
        "plt.figure(figsize=(15, 10))\n",
        "for i in range(9):\n",
        "    ax = plt.subplot(3, 3, i+1)\n",
        "    img_dir = '/content/test_v2/test/'+test.loc[i, 'FILENAME']\n",
        "    # img_dir = '/content/'+str(i)+\".jpg\"\n",
        "    image = cv2.imread(img_dir, cv2.IMREAD_GRAYSCALE)\n",
        "    plt.imshow(image, cmap='gray')\n",
        "    \n",
        "    image = preprocess(image)\n",
        "    image = image/255.\n",
        "    pred = model.predict(image.reshape(1, 256, 64, 1))\n",
        "    decoded = K.get_value(K.ctc_decode(pred, input_length=np.ones(pred.shape[0])*pred.shape[1], \n",
        "                                       greedy=True)[0][0])\n",
        "    print(decoded)\n",
        "    plt.title(num_to_label(decoded[0]), fontsize=12)\n",
        "    plt.axis('off')\n",
        "    \n",
        "plt.subplots_adjust(wspace=0.2, hspace=-0.8)\n"
      ],
      "metadata": {
        "id": "p-RnwLL1DxKl",
        "colab": {
          "base_uri": "https://localhost:8080/",
          "height": 705
        },
        "outputId": "23ad0076-546d-41e9-e5ed-3c8e3755cb10"
      },
      "execution_count": null,
      "outputs": [
        {
          "output_type": "stream",
          "name": "stdout",
          "text": [
            "[[10  4 21  8 13 -1 -1 -1 -1 -1 -1 -1 -1 -1 -1 -1 -1 -1 -1 -1 -1 -1 -1 -1\n",
            "  -1 -1 -1 -1 -1 -1 -1 -1 -1 -1 -1 -1 -1 -1 -1 -1 -1 -1 -1 -1 -1 -1 -1 -1\n",
            "  -1 -1 -1 -1 -1 -1 -1 -1 -1 -1 -1 -1 -1 -1 -1 -1]]\n",
            "[[ 2 14 14 19 20 24 -1 -1 -1 -1 -1 -1 -1 -1 -1 -1 -1 -1 -1 -1 -1 -1 -1 -1\n",
            "  -1 -1 -1 -1 -1 -1 -1 -1 -1 -1 -1 -1 -1 -1 -1 -1 -1 -1 -1 -1 -1 -1 -1 -1\n",
            "  -1 -1 -1 -1 -1 -1 -1 -1 -1 -1 -1 -1 -1 -1 -1 -1]]\n",
            "[[11  4 13  0 -1 -1 -1 -1 -1 -1 -1 -1 -1 -1 -1 -1 -1 -1 -1 -1 -1 -1 -1 -1\n",
            "  -1 -1 -1 -1 -1 -1 -1 -1 -1 -1 -1 -1 -1 -1 -1 -1 -1 -1 -1 -1 -1 -1 -1 -1\n",
            "  -1 -1 -1 -1 -1 -1 -1 -1 -1 -1 -1 -1 -1 -1 -1 -1]]\n",
            "[[ 9 20 11  4 18 -1 -1 -1 -1 -1 -1 -1 -1 -1 -1 -1 -1 -1 -1 -1 -1 -1 -1 -1\n",
            "  -1 -1 -1 -1 -1 -1 -1 -1 -1 -1 -1 -1 -1 -1 -1 -1 -1 -1 -1 -1 -1 -1 -1 -1\n",
            "  -1 -1 -1 -1 -1 -1 -1 -1 -1 -1 -1 -1 -1 -1 -1 -1]]\n",
            "[[ 2  7  4 17 15  8 13 -1 -1 -1 -1 -1 -1 -1 -1 -1 -1 -1 -1 -1 -1 -1 -1 -1\n",
            "  -1 -1 -1 -1 -1 -1 -1 -1 -1 -1 -1 -1 -1 -1 -1 -1 -1 -1 -1 -1 -1 -1 -1 -1\n",
            "  -1 -1 -1 -1 -1 -1 -1 -1 -1 -1 -1 -1 -1 -1 -1 -1]]\n",
            "[[12  0 17 19  8 13 -1 -1 -1 -1 -1 -1 -1 -1 -1 -1 -1 -1 -1 -1 -1 -1 -1 -1\n",
            "  -1 -1 -1 -1 -1 -1 -1 -1 -1 -1 -1 -1 -1 -1 -1 -1 -1 -1 -1 -1 -1 -1 -1 -1\n",
            "  -1 -1 -1 -1 -1 -1 -1 -1 -1 -1 -1 -1 -1 -1 -1 -1]]\n",
            "[[21  0 11  4 13 19  8 13  4 -1 -1 -1 -1 -1 -1 -1 -1 -1 -1 -1 -1 -1 -1 -1\n",
            "  -1 -1 -1 -1 -1 -1 -1 -1 -1 -1 -1 -1 -1 -1 -1 -1 -1 -1 -1 -1 -1 -1 -1 -1\n",
            "  -1 -1 -1 -1 -1 -1 -1 -1 -1 -1 -1 -1 -1 -1 -1 -1]]\n",
            "[[11 14 17  0 18 -1 -1 -1 -1 -1 -1 -1 -1 -1 -1 -1 -1 -1 -1 -1 -1 -1 -1 -1\n",
            "  -1 -1 -1 -1 -1 -1 -1 -1 -1 -1 -1 -1 -1 -1 -1 -1 -1 -1 -1 -1 -1 -1 -1 -1\n",
            "  -1 -1 -1 -1 -1 -1 -1 -1 -1 -1 -1 -1 -1 -1 -1 -1]]\n",
            "[[19  7  8  1  0 20 11 19 -1 -1 -1 -1 -1 -1 -1 -1 -1 -1 -1 -1 -1 -1 -1 -1\n",
            "  -1 -1 -1 -1 -1 -1 -1 -1 -1 -1 -1 -1 -1 -1 -1 -1 -1 -1 -1 -1 -1 -1 -1 -1\n",
            "  -1 -1 -1 -1 -1 -1 -1 -1 -1 -1 -1 -1 -1 -1 -1 -1]]\n"
          ]
        },
        {
          "output_type": "display_data",
          "data": {
            "text/plain": [
              "<Figure size 1080x720 with 9 Axes>"
            ],
            "image/png": "[encoded data removed]"
          },
          "metadata": {
            "needs_background": "light"
          }
        }
      ]
    }
  ],
  "metadata": {
    "colab": {
      "collapsed_sections": [],
      "provenance": [],
      "include_colab_link": true
    },
    "kernelspec": {
      "display_name": "Python 3",
      "name": "python3"
    },
    "language_info": {
      "name": "python"
    },
    "accelerator": "GPU"
  },
  "nbformat": 4,
  "nbformat_minor": 0
}